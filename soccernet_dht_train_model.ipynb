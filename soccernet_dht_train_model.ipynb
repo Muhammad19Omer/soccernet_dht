{
  "nbformat": 4,
  "nbformat_minor": 0,
  "metadata": {
    "colab": {
      "provenance": [],
      "collapsed_sections": [
        "je74r9sySWUX",
        "-ftvWhHkSfqr",
        "fvrQ1qI7SsO8",
        "BQoAF13uSycl",
        "Ys5UbLGbTSiK"
      ]
    },
    "kernelspec": {
      "name": "python3",
      "display_name": "Python 3"
    },
    "language_info": {
      "name": "python"
    },
    "gpuClass": "standard",
    "accelerator": "GPU"
  },
  "cells": [
    {
      "cell_type": "markdown",
      "source": [
        "# SoccerNet - Deep Hough Transform - training own model"
      ],
      "metadata": {
        "id": "jazip13DSMIM"
      }
    },
    {
      "cell_type": "markdown",
      "source": [
        "Instructions: DO NOT RUN ALL CELLS AUTOMATICALLY. Kindly run the cells for the first section manually, and then RUN AFTER ALL CELLS AUTOMATICALLY"
      ],
      "metadata": {
        "id": "MXe9POdRU6jo"
      }
    },
    {
      "cell_type": "markdown",
      "source": [
        "## Get Deep Hough Transform repository and adapt (Manual)"
      ],
      "metadata": {
        "id": "je74r9sySWUX"
      }
    },
    {
      "cell_type": "code",
      "execution_count": null,
      "metadata": {
        "id": "ItmA6UjmzbhD"
      },
      "outputs": [],
      "source": [
        "!git clone https://github.com/Hanqer/deep-hough-transform.git"
      ]
    },
    {
      "cell_type": "code",
      "source": [
        "# fix deep-hough-transform/data/prepare_data_NKL.py\n",
        "# Replace lines 70 - 103 with:\n",
        "'''\n",
        "            with open(join(label_path, label_file)) as f:\n",
        "                data = f.readlines()[0].split(' ')\n",
        "                nums = int(data[0])\n",
        "                # stastic[nums] += 1\n",
        "                total_nums += nums\n",
        "                \n",
        "                if int(nums) == 0:\n",
        "                    print(\"Warning: image has no semantic line : %s\" % (filename))\n",
        "\n",
        "                for i in range(nums):\n",
        "                    y1, x1 = check(int(data[i*4+2]), int(data[i*4+1]), H, W)\n",
        "                    y2, x2 = check(int(data[i*4+4]), int(data[i*4+3]), H, W)\n",
        "                    if y1 == y2:\n",
        "                      y2 += 1\n",
        "                      y1 -= 1\n",
        "                    if x1 == x2:\n",
        "                      x2 += 1\n",
        "                      x1 -= 1\n",
        "                    line = Line([y1, x1, y2, x2])\n",
        "                    angle = line.angle()\n",
        "                    angle_stastic[int((angle / np.pi + 0.5) * 180)] += 1\n",
        "                    total_lines += 1\n",
        "                    line.rescale(scale_H, scale_W)\n",
        "                    lines.append(line)\n",
        "            \n",
        "            annotation = LineAnnotation(size=[args.fixsize, args.fixsize], lines=lines)\n",
        "        else:\n",
        "            im = cv2.flip(im, 1)\n",
        "            filename = filename + '_flip'\n",
        "            lines = []\n",
        "            with open(join(label_path, label_file)) as f:\n",
        "                data = f.readlines()[0].split(' ')\n",
        "                for i in range(int(data[0])):\n",
        "                    y1, x1 = check(int(data[i*4+2]), W-1-int(data[i*4+1]), H, W)\n",
        "                    y2, x2 = check(int(data[i*4+4]), W-1-int(data[i*4+3]), H, W)\n",
        "                    if y1 == y2:\n",
        "                      y2 += 1\n",
        "                      y1 -= 1\n",
        "                    if x1 == x2:\n",
        "                      x2 += 1\n",
        "                      x1 -= 1\n",
        "                    line = Line([y1, x1, y2, x2])\n",
        "                    line.rescale(scale_H, scale_W)\n",
        "                    lines.append(line)\n",
        "            \n",
        "            annotation = LineAnnotation(size=[args.fixsize, args.fixsize], lines=lines)\n",
        "'''"
      ],
      "metadata": {
        "id": "8uLbM14xy06M"
      },
      "execution_count": null,
      "outputs": []
    },
    {
      "cell_type": "code",
      "source": [
        "# fix deep-hough-transform/config.yml\n",
        "# replace the lines 2 - 13 with:\n",
        "'''\n",
        "    DIR: \"data/training/\"\n",
        "    VAL_DIR: \"data/training/\"\n",
        "    TEST_DIR: \"data/soccernet_data_test\"\n",
        "    LABEL_FILE: \"data/training/train_soccernet.txt\"\n",
        "    VAL_LABEL_FILE: \"data/training/valid_soccernet.txt\"\n",
        "    TEST_LABEL_FILE: \"data/training/test_soccernet.txt\"\n",
        "'''\n",
        "# SET THE EPOCHS TO 3 OR AS MANY AS YOU WANT"
      ],
      "metadata": {
        "id": "_c2hb66k49x3"
      },
      "execution_count": null,
      "outputs": []
    },
    {
      "cell_type": "code",
      "source": [
        "# fix deep-hough-transform/train.py\n",
        "# Line: 34\n",
        "# CONFIGS = yaml.load(open(args.config), Loader=yaml.Loader)"
      ],
      "metadata": {
        "id": "hoRcJtXN6BLO"
      },
      "execution_count": null,
      "outputs": []
    },
    {
      "cell_type": "markdown",
      "source": [
        "## Get SoccerNet data and adapt"
      ],
      "metadata": {
        "id": "-ftvWhHkSfqr"
      }
    },
    {
      "cell_type": "code",
      "source": [
        "!pip install SoccerNet"
      ],
      "metadata": {
        "id": "CYzq9XB9lQtn"
      },
      "execution_count": null,
      "outputs": []
    },
    {
      "cell_type": "code",
      "source": [
        "from SoccerNet.Downloader import SoccerNetDownloader\n",
        "mySoccerNetDownloader = SoccerNetDownloader(LocalDirectory=\"SoccerNet/\")\n",
        "mySoccerNetDownloader.downloadDataTask(task=\"calibration\", split=[\"train\",\"valid\",\"test\",\"challenge\"])"
      ],
      "metadata": {
        "id": "n1VkxtSJlWxN"
      },
      "execution_count": null,
      "outputs": []
    },
    {
      "cell_type": "code",
      "source": [
        "# Prepare Soccernet data\n",
        "%cd SoccerNet/calibration/"
      ],
      "metadata": {
        "id": "1q3LGFBEoStl"
      },
      "execution_count": null,
      "outputs": []
    },
    {
      "cell_type": "code",
      "source": [
        "!unzip train.zip"
      ],
      "metadata": {
        "id": "i2kO5td8oyCh"
      },
      "execution_count": null,
      "outputs": []
    },
    {
      "cell_type": "code",
      "source": [
        "!unzip test.zip"
      ],
      "metadata": {
        "id": "nOx01i4zqAa3"
      },
      "execution_count": null,
      "outputs": []
    },
    {
      "cell_type": "code",
      "source": [
        "!unzip valid.zip"
      ],
      "metadata": {
        "id": "yBsxpHaeqI7r"
      },
      "execution_count": null,
      "outputs": []
    },
    {
      "cell_type": "code",
      "source": [
        "%cd train/\n",
        "%mkdir soccernet_data_train"
      ],
      "metadata": {
        "id": "qoyL4fJmqQyg"
      },
      "execution_count": null,
      "outputs": []
    },
    {
      "cell_type": "code",
      "source": [
        "import math \n",
        "for x in range(14513):\n",
        "  lineCount = 0\n",
        "  x_coords = []\n",
        "  y_coords = []\n",
        "  foundCircle = False\n",
        "  if x >= 10000:\n",
        "    prefix = \"\"\n",
        "  if x < 10000:\n",
        "    prefix = \"0\"\n",
        "  if x < 1000:\n",
        "    prefix = \"00\"\n",
        "  if x < 100:\n",
        "    prefix = \"000\"\n",
        "  if x < 10:\n",
        "    prefix = \"0000\"\n",
        "  with open(prefix + str(x) + '.txt', 'w') as fw:\n",
        "    with open(prefix + str(x) + '.json', 'r') as fr:\n",
        "      for line in fr.readlines():\n",
        "        if 'Circle' not in line and '[' in line:\n",
        "          foundCircle = False\n",
        "        if foundCircle == True:\n",
        "          continue\n",
        "        if 'Circle' in line:\n",
        "          foundCircle = True\n",
        "          continue\n",
        "        if '\"x\":' in line:\n",
        "          x_coords.append(int(math.floor(float(line.split(': ')[1].split(',')[0]) * 960)))\n",
        "        elif '\"y\":' in line:\n",
        "          y_coords.append(int(math.floor(float(line.split(': ')[1].split(',')[0]) * 960)))\n",
        "      lineCount = len(x_coords) // 2\n",
        "      fw.write(str(lineCount))\n",
        "      for i in range(len(x_coords)):\n",
        "        fw.write(' ' + str(x_coords[i]) + ' ' + str(y_coords[i]))\n",
        "      fr.close()\n",
        "    fw.close()"
      ],
      "metadata": {
        "id": "rrZ4k4KNqV8y"
      },
      "execution_count": null,
      "outputs": []
    },
    {
      "cell_type": "code",
      "source": [
        "%mv *.jpg soccernet_data_train/\n",
        "%mv *.txt soccernet_data_train/\n",
        "%cp -r soccernet_data_train ../../../deep-hough-transform/data/"
      ],
      "metadata": {
        "id": "83v4qtN2rB7C"
      },
      "execution_count": null,
      "outputs": []
    },
    {
      "cell_type": "code",
      "source": [
        "%cd ../valid/\n",
        "%mkdir soccernet_data_valid"
      ],
      "metadata": {
        "id": "SctZrvBsrYyu"
      },
      "execution_count": null,
      "outputs": []
    },
    {
      "cell_type": "code",
      "source": [
        "import math \n",
        "for x in range(2796):\n",
        "  lineCount = 0\n",
        "  x_coords = []\n",
        "  y_coords = []\n",
        "  foundCircle = False\n",
        "  if x >= 10000:\n",
        "    prefix = \"\"\n",
        "  if x < 10000:\n",
        "    prefix = \"0\"\n",
        "  if x < 1000:\n",
        "    prefix = \"00\"\n",
        "  if x < 100:\n",
        "    prefix = \"000\"\n",
        "  if x < 10:\n",
        "    prefix = \"0000\"\n",
        "  with open(prefix + str(x) + '.txt', 'w') as fw:\n",
        "    with open(prefix + str(x) + '.json', 'r') as fr:\n",
        "      for line in fr.readlines():\n",
        "        if 'Circle' not in line and '[' in line:\n",
        "          foundCircle = False\n",
        "        if foundCircle == True:\n",
        "          continue\n",
        "        if 'Circle' in line:\n",
        "          foundCircle = True\n",
        "          continue\n",
        "        if '\"x\":' in line:\n",
        "          x_coords.append(int(math.floor(float(line.split(': ')[1].split(',')[0]) * 960)))\n",
        "        elif '\"y\":' in line:\n",
        "          y_coords.append(int(math.floor(float(line.split(': ')[1].split(',')[0]) * 960)))\n",
        "      lineCount = len(x_coords) // 2\n",
        "      fw.write(str(lineCount))\n",
        "      for i in range(len(x_coords)):\n",
        "        fw.write(' ' + str(x_coords[i]) + ' ' + str(y_coords[i]))\n",
        "      fr.close()\n",
        "    fw.close()"
      ],
      "metadata": {
        "id": "y32pEsBWsICR"
      },
      "execution_count": null,
      "outputs": []
    },
    {
      "cell_type": "code",
      "source": [
        "%mv *.jpg soccernet_data_valid/\n",
        "%mv *.txt soccernet_data_valid/\n",
        "%cp -r soccernet_data_valid ../../../deep-hough-transform/data/"
      ],
      "metadata": {
        "id": "YVKyviuGsmdo"
      },
      "execution_count": null,
      "outputs": []
    },
    {
      "cell_type": "code",
      "source": [
        "%cd ../test/\n",
        "%mkdir soccernet_data_test"
      ],
      "metadata": {
        "id": "55SMuKxys0A8"
      },
      "execution_count": null,
      "outputs": []
    },
    {
      "cell_type": "code",
      "source": [
        "import math \n",
        "for x in range(2719):\n",
        "  lineCount = 0\n",
        "  x_coords = []\n",
        "  y_coords = []\n",
        "  foundCircle = False\n",
        "  if x >= 10000:\n",
        "    prefix = \"\"\n",
        "  if x < 10000:\n",
        "    prefix = \"0\"\n",
        "  if x < 1000:\n",
        "    prefix = \"00\"\n",
        "  if x < 100:\n",
        "    prefix = \"000\"\n",
        "  if x < 10:\n",
        "    prefix = \"0000\"\n",
        "  with open(prefix + str(x) + '.txt', 'w') as fw:\n",
        "    with open(prefix + str(x) + '.json', 'r') as fr:\n",
        "      for line in fr.readlines():\n",
        "        if 'Circle' not in line and '[' in line:\n",
        "          foundCircle = False\n",
        "        if foundCircle == True:\n",
        "          continue\n",
        "        if 'Circle' in line:\n",
        "          foundCircle = True\n",
        "          continue\n",
        "        if '\"x\":' in line:\n",
        "          x_coords.append(int(math.floor(float(line.split(': ')[1].split(',')[0]) * 960)))\n",
        "        elif '\"y\":' in line:\n",
        "          y_coords.append(int(math.floor(float(line.split(': ')[1].split(',')[0]) * 960)))\n",
        "      lineCount = len(x_coords) // 2\n",
        "      fw.write(str(lineCount))\n",
        "      for i in range(len(x_coords)):\n",
        "        fw.write(' ' + str(x_coords[i]) + ' ' + str(y_coords[i]))\n",
        "      fr.close()\n",
        "    fw.close()"
      ],
      "metadata": {
        "id": "clIfFKEntD1l"
      },
      "execution_count": null,
      "outputs": []
    },
    {
      "cell_type": "code",
      "source": [
        "%mv *.jpg soccernet_data_test/\n",
        "%mv *.txt soccernet_data_test/\n",
        "%cp -r soccernet_data_test ../../../deep-hough-transform/data/"
      ],
      "metadata": {
        "id": "pWvkd04utH5h"
      },
      "execution_count": null,
      "outputs": []
    },
    {
      "cell_type": "code",
      "source": [
        "%cd ../../../deep-hough-transform/"
      ],
      "metadata": {
        "id": "4DAWrmRNzsuP"
      },
      "execution_count": null,
      "outputs": []
    },
    {
      "cell_type": "markdown",
      "source": [
        "## Install Deep Hough Transform dependency"
      ],
      "metadata": {
        "id": "fvrQ1qI7SsO8"
      }
    },
    {
      "cell_type": "code",
      "source": [
        "%cd model/_cdht"
      ],
      "metadata": {
        "id": "15KyVP0ZQWGH"
      },
      "execution_count": null,
      "outputs": []
    },
    {
      "cell_type": "code",
      "source": [
        "!python setup.py build"
      ],
      "metadata": {
        "id": "U45Rtw0RQZxe"
      },
      "execution_count": null,
      "outputs": []
    },
    {
      "cell_type": "code",
      "source": [
        "!python setup.py install --user"
      ],
      "metadata": {
        "id": "Ir4QuLOMQdvG"
      },
      "execution_count": null,
      "outputs": []
    },
    {
      "cell_type": "code",
      "source": [
        "%cd ../../"
      ],
      "metadata": {
        "id": "pYWzFm7-RFjW"
      },
      "execution_count": null,
      "outputs": []
    },
    {
      "cell_type": "markdown",
      "source": [
        "## Prepare the training data and validation data"
      ],
      "metadata": {
        "id": "BQoAF13uSycl"
      }
    },
    {
      "cell_type": "code",
      "source": [
        "!pip install tensorboardX"
      ],
      "metadata": {
        "id": "ifTHYUXpf3-M"
      },
      "execution_count": null,
      "outputs": []
    },
    {
      "cell_type": "code",
      "source": [
        "!pip install POT"
      ],
      "metadata": {
        "id": "zDeY6iVJgAx0"
      },
      "execution_count": null,
      "outputs": []
    },
    {
      "cell_type": "code",
      "source": [
        "!pip install Ninja"
      ],
      "metadata": {
        "id": "J9f4yJdigGtM"
      },
      "execution_count": null,
      "outputs": []
    },
    {
      "cell_type": "code",
      "source": [
        "# Prepare training data\n",
        "!python data/prepare_data_NKL.py --root './data/soccernet_data_train' --label './data/soccernet_data_train' --save-dir './data/training/soccernet_train_resize_100_100' --fixsize 400"
      ],
      "metadata": {
        "id": "XnOWuIYVh3nE"
      },
      "execution_count": null,
      "outputs": []
    },
    {
      "cell_type": "code",
      "source": [
        "# Prepare validation data\n",
        "!python data/prepare_data_NKL.py --root './data/soccernet_data_valid' --label './data/soccernet_data_valid' --save-dir './data/training/soccernet_valid_resize_100_100' --fixsize 400"
      ],
      "metadata": {
        "id": "TFr4S03zznl4"
      },
      "execution_count": null,
      "outputs": []
    },
    {
      "cell_type": "code",
      "source": [
        "# NO NEED FOR THIS\n",
        "# Prepare testing data\n",
        "# !python data/prepare_data_NKL.py --root './data/soccernet_data_test' --label './data/soccernet_data_test' --save-dir './data/training/soccernet_test_resize_100_100' --fixsize 400"
      ],
      "metadata": {
        "id": "ogbDiI3S0Xl4"
      },
      "execution_count": null,
      "outputs": []
    },
    {
      "cell_type": "code",
      "source": [
        "# Prepare txt files\n",
        "%cd data/training/"
      ],
      "metadata": {
        "id": "Q6u35euj2cX2"
      },
      "execution_count": null,
      "outputs": []
    },
    {
      "cell_type": "code",
      "source": [
        "with open('train_soccernet.txt', 'w') as f:\n",
        "  for i in range(0, 14513):\n",
        "    if i >= 10000:\n",
        "      prefix = \"\"\n",
        "    if i < 10000:\n",
        "      prefix = \"0\"\n",
        "    if i < 1000:\n",
        "      prefix = \"00\"\n",
        "    if i < 100:\n",
        "      prefix = \"000\"\n",
        "    if i < 10:\n",
        "      prefix = \"0000\"\n",
        "    f.write('soccernet_train_resize_100_100/' + prefix + str(i) + '\\n')\n",
        "    f.write('soccernet_train_resize_100_100/' + prefix + str(i) + '_flip' + '\\n')\n",
        "  f.close()"
      ],
      "metadata": {
        "id": "bcMpoUyK2nA9"
      },
      "execution_count": null,
      "outputs": []
    },
    {
      "cell_type": "code",
      "source": [
        "with open('valid_soccernet.txt', 'w') as f:\n",
        "  for i in range(0, 2796):\n",
        "    if i >= 10000:\n",
        "      prefix = \"\"\n",
        "    if i < 10000:\n",
        "      prefix = \"0\"\n",
        "    if i < 1000:\n",
        "      prefix = \"00\"\n",
        "    if i < 100:\n",
        "      prefix = \"000\"\n",
        "    if i < 10:\n",
        "      prefix = \"0000\"\n",
        "    f.write('soccernet_valid_resize_100_100/' + prefix + str(i) + '\\n')\n",
        "    # Not including flips in this\n",
        "    # f.write('soccernet_valid_resize_100_100/' + prefix + str(i) + '_flip' + '\\n')\n",
        "  f.close()"
      ],
      "metadata": {
        "id": "UMPxyrbn3go_"
      },
      "execution_count": null,
      "outputs": []
    },
    {
      "cell_type": "code",
      "source": [
        "with open('test_soccernet.txt', 'w') as f:\n",
        "  for i in range(0, 2719):\n",
        "    if i >= 10000:\n",
        "      prefix = \"\"\n",
        "    if i < 10000:\n",
        "      prefix = \"0\"\n",
        "    if i < 1000:\n",
        "      prefix = \"00\"\n",
        "    if i < 100:\n",
        "      prefix = \"000\"\n",
        "    if i < 10:\n",
        "      prefix = \"0000\"\n",
        "    f.write(prefix + str(i) + '\\n')"
      ],
      "metadata": {
        "id": "27_AvEDu4Zv9"
      },
      "execution_count": null,
      "outputs": []
    },
    {
      "cell_type": "code",
      "source": [
        "%cd ../../"
      ],
      "metadata": {
        "id": "EM_ezRSm6cJV"
      },
      "execution_count": null,
      "outputs": []
    },
    {
      "cell_type": "markdown",
      "source": [
        "## Train the model (Download from runtime)"
      ],
      "metadata": {
        "id": "Ys5UbLGbTSiK"
      }
    },
    {
      "cell_type": "code",
      "source": [
        "!python train.py"
      ],
      "metadata": {
        "id": "sRM97H0xQ4_O"
      },
      "execution_count": null,
      "outputs": []
    },
    {
      "cell_type": "code",
      "source": [
        "!zip result.zip result"
      ],
      "metadata": {
        "id": "415T1HR6VuYq"
      },
      "execution_count": null,
      "outputs": []
    },
    {
      "cell_type": "code",
      "source": [
        "# Download result.zip and the trained model can be found as model_best.pth under the reproduce directory"
      ],
      "metadata": {
        "id": "bg-CeXyqVxhA"
      },
      "execution_count": null,
      "outputs": []
    }
  ]
}