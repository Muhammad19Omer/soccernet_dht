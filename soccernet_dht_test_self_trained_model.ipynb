{
  "cells": [
    {
      "cell_type": "markdown",
      "source": [
        "# SoccerNet - Deep Hough Transform - testing with self-trained model"
      ],
      "metadata": {
        "id": "dZ-wp9FLQEg9"
      }
    },
    {
      "cell_type": "markdown",
      "source": [
        "Instructions: DO NOT RUN ALL AUTOMATICALLY. Kindly run the cells for the first and second section manually, and then RUN AFTER ALL CELLS AUTOMATICALLY"
      ],
      "metadata": {
        "id": "3Y7x1kiNQ5nV"
      }
    },
    {
      "cell_type": "markdown",
      "source": [
        "## Get Deep Hough Transform repository and adapt (Manual)"
      ],
      "metadata": {
        "id": "p96BhctgQK8-"
      }
    },
    {
      "cell_type": "code",
      "execution_count": null,
      "metadata": {
        "id": "JjpqlRQnurFR"
      },
      "outputs": [],
      "source": [
        "!git clone https://github.com/Hanqer/deep-hough-transform.git"
      ]
    },
    {
      "cell_type": "code",
      "source": [
        "# fix deep-hough-transform/config.yml file\n",
        "# TEST_DIR: \"data/soccernet_data\""
      ],
      "metadata": {
        "id": "J9N-LcpiMiuk"
      },
      "execution_count": null,
      "outputs": []
    },
    {
      "cell_type": "code",
      "source": [
        "# fix deep-hough-transform/forward.py file\n",
        "# Line: 34\n",
        "# CONFIGS = yaml.load(open(args.config), Loader=yaml.Loader)"
      ],
      "metadata": {
        "id": "Q-d1WBz-lyLi"
      },
      "execution_count": null,
      "outputs": []
    },
    {
      "cell_type": "markdown",
      "source": [
        "## Upload self-trained model to runtime (Manual)"
      ],
      "metadata": {
        "id": "n2nRJ7pgQdCE"
      }
    },
    {
      "cell_type": "code",
      "source": [
        "# upload trained model"
      ],
      "metadata": {
        "id": "iY96y_v8cnQ1"
      },
      "execution_count": null,
      "outputs": []
    },
    {
      "cell_type": "markdown",
      "source": [
        "## Get SoccerNet data and adapt"
      ],
      "metadata": {
        "id": "caT-IYbHQQr8"
      }
    },
    {
      "cell_type": "code",
      "source": [
        "!pip install SoccerNet"
      ],
      "metadata": {
        "id": "eTf0W85FGAdi"
      },
      "execution_count": null,
      "outputs": []
    },
    {
      "cell_type": "code",
      "source": [
        "from SoccerNet.Downloader import SoccerNetDownloader\n",
        "mySoccerNetDownloader = SoccerNetDownloader(LocalDirectory=\"SoccerNet/\")\n",
        "mySoccerNetDownloader.downloadDataTask(task=\"calibration\", split=[\"train\",\"valid\",\"test\",\"challenge\"])"
      ],
      "metadata": {
        "id": "xV9Ifd2ppY2G"
      },
      "execution_count": null,
      "outputs": []
    },
    {
      "cell_type": "code",
      "source": [
        "# Prepare Soccernet data\n",
        "%cd SoccerNet/calibration/"
      ],
      "metadata": {
        "id": "ttSwMnfNIAw9"
      },
      "execution_count": null,
      "outputs": []
    },
    {
      "cell_type": "code",
      "source": [
        "!unzip train.zip"
      ],
      "metadata": {
        "id": "tQctjyPUInz-"
      },
      "execution_count": null,
      "outputs": []
    },
    {
      "cell_type": "code",
      "source": [
        "%cd train/"
      ],
      "metadata": {
        "id": "YW0SQ5sOJB0b"
      },
      "execution_count": null,
      "outputs": []
    },
    {
      "cell_type": "code",
      "source": [
        "import math \n",
        "for x in range(14513):\n",
        "  lineCount = 0\n",
        "  x_coords = []\n",
        "  y_coords = []\n",
        "  foundCircle = False\n",
        "  if x >= 10000:\n",
        "    prefix = \"\"\n",
        "  if x < 10000:\n",
        "    prefix = \"0\"\n",
        "  if x < 1000:\n",
        "    prefix = \"00\"\n",
        "  if x < 100:\n",
        "    prefix = \"000\"\n",
        "  if x < 10:\n",
        "    prefix = \"0000\"\n",
        "  with open(prefix + str(x) + '.txt', 'w') as fw:\n",
        "    with open(prefix + str(x) + '.json', 'r') as fr:\n",
        "      for line in fr.readlines():\n",
        "        if 'Circle' not in line and '[' in line:\n",
        "          foundCircle = False\n",
        "        if foundCircle == True:\n",
        "          continue\n",
        "        if 'Circle' in line:\n",
        "          foundCircle = True\n",
        "          continue\n",
        "        if '\"x\":' in line:\n",
        "          x_coords.append(int(math.floor(float(line.split(': ')[1].split(',')[0]) * 960)))\n",
        "        elif '\"y\":' in line:\n",
        "          y_coords.append(int(math.floor(float(line.split(': ')[1].split(',')[0]) * 960)))\n",
        "      lineCount = len(x_coords) // 2\n",
        "      fw.write(str(lineCount))\n",
        "      for i in range(len(x_coords)):\n",
        "        fw.write(' ' + str(x_coords[i]) + ' ' + str(y_coords[i]))\n",
        "      fr.close()\n",
        "    fw.close()"
      ],
      "metadata": {
        "id": "lUf0dbwQJGbu"
      },
      "execution_count": null,
      "outputs": []
    },
    {
      "cell_type": "code",
      "source": [
        "%mkdir soccernet_data"
      ],
      "metadata": {
        "id": "lkljR1CnJWyK"
      },
      "execution_count": null,
      "outputs": []
    },
    {
      "cell_type": "code",
      "source": [
        "%mv *.jpg soccernet_data/"
      ],
      "metadata": {
        "id": "kzfzYtSjJcOV"
      },
      "execution_count": null,
      "outputs": []
    },
    {
      "cell_type": "code",
      "source": [
        "%mv *.txt soccernet_data/"
      ],
      "metadata": {
        "id": "pkPBWHCyJ9T0"
      },
      "execution_count": null,
      "outputs": []
    },
    {
      "cell_type": "code",
      "source": [
        "%cp -r soccernet_data ../../../deep-hough-transform/data/"
      ],
      "metadata": {
        "id": "J8iNVhpMKD_a"
      },
      "execution_count": null,
      "outputs": []
    },
    {
      "cell_type": "markdown",
      "source": [
        "## Install Deep Hough Transform dependency"
      ],
      "metadata": {
        "id": "eQ0NJIZ2QZCL"
      }
    },
    {
      "cell_type": "code",
      "execution_count": null,
      "metadata": {
        "id": "qTSFYJp-vAOS"
      },
      "outputs": [],
      "source": [
        "%cd ../../../deep-hough-transform/"
      ]
    },
    {
      "cell_type": "code",
      "execution_count": null,
      "metadata": {
        "id": "uPKhy0mXwWOh"
      },
      "outputs": [],
      "source": [
        "%cd model/_cdht"
      ]
    },
    {
      "cell_type": "code",
      "execution_count": null,
      "metadata": {
        "id": "go0f1F6Hwa5Y"
      },
      "outputs": [],
      "source": [
        "!python setup.py install --user"
      ]
    },
    {
      "cell_type": "code",
      "execution_count": null,
      "metadata": {
        "id": "GV4NbVjywi1D"
      },
      "outputs": [],
      "source": [
        "%cd ../.."
      ]
    },
    {
      "cell_type": "markdown",
      "source": [
        "## Prepare testing file for model"
      ],
      "metadata": {
        "id": "RcWiiRLrQmln"
      }
    },
    {
      "cell_type": "code",
      "source": [
        "%cd data/training/"
      ],
      "metadata": {
        "id": "uRoDJYwZOxf8"
      },
      "execution_count": null,
      "outputs": []
    },
    {
      "cell_type": "code",
      "source": [
        "with open('test_SoccerNet.txt', 'w') as f:\n",
        "  for i in range(0, 14513):\n",
        "    if i >= 10000:\n",
        "      prefix = \"\"\n",
        "    if i < 10000:\n",
        "      prefix = \"0\"\n",
        "    if i < 1000:\n",
        "      prefix = \"00\"\n",
        "    if i < 100:\n",
        "      prefix = \"000\"\n",
        "    if i < 10:\n",
        "      prefix = \"0000\"\n",
        "    f.write(prefix + str(i) + '\\n')"
      ],
      "metadata": {
        "id": "67qu1U3UPRKX"
      },
      "execution_count": null,
      "outputs": []
    },
    {
      "cell_type": "code",
      "source": [
        "%cd ../../"
      ],
      "metadata": {
        "id": "xhphFzwCRKNj"
      },
      "execution_count": null,
      "outputs": []
    },
    {
      "cell_type": "markdown",
      "source": [
        "## Test the model and save the results (Download from runtime)"
      ],
      "metadata": {
        "id": "icaAemaoQrq7"
      }
    },
    {
      "cell_type": "code",
      "execution_count": null,
      "metadata": {
        "id": "ZEOxzmstwwkZ"
      },
      "outputs": [],
      "source": [
        "!python forward.py --model '''../{uploaded_model_file_name}''' --tmp results"
      ]
    },
    {
      "cell_type": "code",
      "source": [
        "!zip -r results.zip results"
      ],
      "metadata": {
        "id": "gn9fcvWIUq94"
      },
      "execution_count": null,
      "outputs": []
    },
    {
      "cell_type": "code",
      "source": [
        "# download the results.zip file, which contains the visualizations on the tested data"
      ],
      "metadata": {
        "id": "FnTs-5PIQwDd"
      },
      "execution_count": null,
      "outputs": []
    },
    {
      "cell_type": "markdown",
      "source": [
        "## Get testing statistics"
      ],
      "metadata": {
        "id": "eBo9cHZTQyug"
      }
    },
    {
      "cell_type": "code",
      "execution_count": null,
      "metadata": {
        "id": "YarQ5buP0ByJ"
      },
      "outputs": [],
      "source": [
        "!pip install POT"
      ]
    },
    {
      "cell_type": "code",
      "source": [
        "!pip install Ninja"
      ],
      "metadata": {
        "id": "CdY_1r_AQyIc"
      },
      "execution_count": null,
      "outputs": []
    },
    {
      "cell_type": "code",
      "execution_count": null,
      "metadata": {
        "id": "RKDQY-0Q1GpO"
      },
      "outputs": [],
      "source": [
        "#!python --version\n",
        "#!sudo apt-get update -y\n",
        "#!sudo apt-get install python3.9\n",
        "#!sudo update-alternatives --install /usr/bin/python3 python3 /usr/bin/python3.7 1\n",
        "#!sudo update-alternatives --install /usr/bin/python3 python3 /usr/bin/python3.9 2\n",
        "#!python --version"
      ]
    },
    {
      "cell_type": "code",
      "execution_count": null,
      "metadata": {
        "id": "9tE_Uz0Xyjh0"
      },
      "outputs": [],
      "source": [
        "!python test_nkl.py --pred results/visualize_test/ --gt data/soccernet_data/"
      ]
    }
  ],
  "metadata": {
    "accelerator": "GPU",
    "colab": {
      "collapsed_sections": [
        "n2nRJ7pgQdCE",
        "caT-IYbHQQr8",
        "eQ0NJIZ2QZCL",
        "RcWiiRLrQmln",
        "icaAemaoQrq7",
        "eBo9cHZTQyug"
      ],
      "provenance": []
    },
    "gpuClass": "standard",
    "kernelspec": {
      "display_name": "Python 3",
      "name": "python3"
    },
    "language_info": {
      "name": "python"
    }
  },
  "nbformat": 4,
  "nbformat_minor": 0
}